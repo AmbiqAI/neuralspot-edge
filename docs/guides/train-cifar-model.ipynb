{
 "cells": [
  {
   "cell_type": "code",
   "execution_count": null,
   "metadata": {},
   "outputs": [],
   "source": []
  },
  {
   "cell_type": "code",
   "execution_count": 1,
   "metadata": {},
   "outputs": [
    {
     "name": "stderr",
     "output_type": "stream",
     "text": [
      "2024-08-20 21:41:22.559742: I tensorflow/core/util/port.cc:153] oneDNN custom operations are on. You may see slightly different numerical results due to floating-point round-off errors from different computation orders. To turn them off, set the environment variable `TF_ENABLE_ONEDNN_OPTS=0`.\n",
      "2024-08-20 21:41:22.565644: E external/local_xla/xla/stream_executor/cuda/cuda_fft.cc:485] Unable to register cuFFT factory: Attempting to register factory for plugin cuFFT when one has already been registered\n",
      "2024-08-20 21:41:22.573471: E external/local_xla/xla/stream_executor/cuda/cuda_dnn.cc:8454] Unable to register cuDNN factory: Attempting to register factory for plugin cuDNN when one has already been registered\n",
      "2024-08-20 21:41:22.575836: E external/local_xla/xla/stream_executor/cuda/cuda_blas.cc:1452] Unable to register cuBLAS factory: Attempting to register factory for plugin cuBLAS when one has already been registered\n",
      "2024-08-20 21:41:22.581854: I tensorflow/core/platform/cpu_feature_guard.cc:210] This TensorFlow binary is optimized to use available CPU instructions in performance-critical operations.\n",
      "To enable the following instructions: AVX2 AVX_VNNI FMA, in other operations, rebuild TensorFlow with the appropriate compiler flags.\n",
      "2024-08-20 21:41:23.009413: W tensorflow/compiler/tf2tensorrt/utils/py_utils.cc:38] TF-TRT Warning: Could not find TensorRT\n"
     ]
    }
   ],
   "source": [
    "import os\n",
    "import keras\n",
    "import numpy as np\n",
    "import tensorflow as tf\n",
    "import neuralspot_edge as nse\n",
    "import matplotlib.pyplot as plt"
   ]
  },
  {
   "cell_type": "code",
   "execution_count": 2,
   "metadata": {},
   "outputs": [],
   "source": [
    "# Constants\n",
    "AUG_SIZE = 64\n",
    "CROP_SIZE = 64\n",
    "NUM_CLASSES = 10\n",
    "SHUFFLE_SIZE = 10000\n",
    "BATCH_SIZE = 256\n",
    "EPOCHS = 100\n",
    "LR_RATE = 1e-3\n",
    "LR_CYCLES = 1\n",
    "VERBOSE = 1"
   ]
  },
  {
   "cell_type": "code",
   "execution_count": 3,
   "metadata": {},
   "outputs": [],
   "source": [
    "(x_train, y_train), (x_test, y_test) = keras.datasets.cifar10.load_data()\n",
    "y_train = y_train.squeeze()\n",
    "y_test = y_test.squeeze()"
   ]
  },
  {
   "cell_type": "code",
   "execution_count": 4,
   "metadata": {},
   "outputs": [
    {
     "name": "stderr",
     "output_type": "stream",
     "text": [
      "WARNING: All log messages before absl::InitializeLog() is called are written to STDERR\n",
      "I0000 00:00:1724190084.312473   22579 cuda_executor.cc:1015] successful NUMA node read from SysFS had negative value (-1), but there must be at least one NUMA node, so returning NUMA node zero. See more at https://github.com/torvalds/linux/blob/v6.0/Documentation/ABI/testing/sysfs-bus-pci#L344-L355\n",
      "I0000 00:00:1724190084.330959   22579 cuda_executor.cc:1015] successful NUMA node read from SysFS had negative value (-1), but there must be at least one NUMA node, so returning NUMA node zero. See more at https://github.com/torvalds/linux/blob/v6.0/Documentation/ABI/testing/sysfs-bus-pci#L344-L355\n",
      "I0000 00:00:1724190084.331052   22579 cuda_executor.cc:1015] successful NUMA node read from SysFS had negative value (-1), but there must be at least one NUMA node, so returning NUMA node zero. See more at https://github.com/torvalds/linux/blob/v6.0/Documentation/ABI/testing/sysfs-bus-pci#L344-L355\n",
      "I0000 00:00:1724190084.332882   22579 cuda_executor.cc:1015] successful NUMA node read from SysFS had negative value (-1), but there must be at least one NUMA node, so returning NUMA node zero. See more at https://github.com/torvalds/linux/blob/v6.0/Documentation/ABI/testing/sysfs-bus-pci#L344-L355\n",
      "I0000 00:00:1724190084.332957   22579 cuda_executor.cc:1015] successful NUMA node read from SysFS had negative value (-1), but there must be at least one NUMA node, so returning NUMA node zero. See more at https://github.com/torvalds/linux/blob/v6.0/Documentation/ABI/testing/sysfs-bus-pci#L344-L355\n",
      "I0000 00:00:1724190084.333003   22579 cuda_executor.cc:1015] successful NUMA node read from SysFS had negative value (-1), but there must be at least one NUMA node, so returning NUMA node zero. See more at https://github.com/torvalds/linux/blob/v6.0/Documentation/ABI/testing/sysfs-bus-pci#L344-L355\n",
      "I0000 00:00:1724190084.381207   22579 cuda_executor.cc:1015] successful NUMA node read from SysFS had negative value (-1), but there must be at least one NUMA node, so returning NUMA node zero. See more at https://github.com/torvalds/linux/blob/v6.0/Documentation/ABI/testing/sysfs-bus-pci#L344-L355\n",
      "I0000 00:00:1724190084.381296   22579 cuda_executor.cc:1015] successful NUMA node read from SysFS had negative value (-1), but there must be at least one NUMA node, so returning NUMA node zero. See more at https://github.com/torvalds/linux/blob/v6.0/Documentation/ABI/testing/sysfs-bus-pci#L344-L355\n",
      "2024-08-20 21:41:24.381343: W tensorflow/core/common_runtime/gpu/gpu_bfc_allocator.cc:47] Overriding orig_value setting because the TF_FORCE_GPU_ALLOW_GROWTH environment variable is set. Original config value was 0.\n",
      "I0000 00:00:1724190084.381374   22579 cuda_executor.cc:1015] successful NUMA node read from SysFS had negative value (-1), but there must be at least one NUMA node, so returning NUMA node zero. See more at https://github.com/torvalds/linux/blob/v6.0/Documentation/ABI/testing/sysfs-bus-pci#L344-L355\n",
      "2024-08-20 21:41:24.381419: I tensorflow/core/common_runtime/gpu/gpu_device.cc:2021] Created device /job:localhost/replica:0/task:0/device:GPU:0 with 22257 MB memory:  -> device: 0, name: NVIDIA GeForce RTX 4090, pci bus id: 0000:01:00.0, compute capability: 8.9\n"
     ]
    }
   ],
   "source": [
    "train_ds = tf.data.Dataset.from_tensor_slices((x_train, y_train))\n",
    "val_ds = tf.data.Dataset.from_tensor_slices((x_test, y_test))"
   ]
  },
  {
   "cell_type": "code",
   "execution_count": 5,
   "metadata": {},
   "outputs": [],
   "source": [
    "# # Plot a random image\n",
    "# fig, ax = plt.subplots(figsize=(2, 2))\n",
    "# ax.imshow(x_train[np.random.randint(0, x_train.shape[0])])\n",
    "# _ = ax.axis('off')"
   ]
  },
  {
   "cell_type": "code",
   "execution_count": 6,
   "metadata": {},
   "outputs": [],
   "source": [
    "augmenter = nse.layers.preprocessing.AugmentationPipeline(\n",
    "    layers=[\n",
    "        nse.layers.preprocessing.Resizing2D(\n",
    "            height=AUG_SIZE,\n",
    "            width=AUG_SIZE,\n",
    "            name=\"Resizing\"\n",
    "        ),\n",
    "        # nse.layers.preprocessing.RandomFlip2D(\n",
    "        #     horizontal=True,\n",
    "        #     vertical=False,\n",
    "        #     name=\"RandomFlip\"\n",
    "        # ),\n",
    "        # nse.layers.preprocessing.RandomCutout2D(\n",
    "        #     factor=(0.01, 0.05),\n",
    "        #     cutouts=2,\n",
    "        #     fill_mode=\"constant\",\n",
    "        #     fill_value=0.0,\n",
    "        #     name=\"RandomCutout\"\n",
    "        # ),\n",
    "        # nse.layers.preprocessing.RandomCrop2D(\n",
    "        #     height=CROP_SIZE,\n",
    "        #     width=CROP_SIZE,\n",
    "        #     name=\"RandomCrop\",\n",
    "        #     auto_vectorize=True\n",
    "        # ),\n",
    "        # nse.layers.preprocessing.Rescaling2D(\n",
    "        #     scale=1.0 / 255.0,\n",
    "        #     name=\"Rescaling\"\n",
    "        # )\n",
    "    ],\n",
    ")"
   ]
  },
  {
   "cell_type": "code",
   "execution_count": 7,
   "metadata": {},
   "outputs": [],
   "source": [
    "y = augmenter(x_train[:1].astype(np.float32))"
   ]
  },
  {
   "cell_type": "code",
   "execution_count": 8,
   "metadata": {},
   "outputs": [],
   "source": [
    "# # Plot a random image\n",
    "# fig, ax = plt.subplots(figsize=(2, 2))\n",
    "# ax.imshow(y[0].numpy())\n",
    "# _ = ax.axis('off')\n"
   ]
  },
  {
   "cell_type": "code",
   "execution_count": 9,
   "metadata": {},
   "outputs": [],
   "source": [
    "train_ds = train_ds.shuffle(\n",
    "    buffer_size=SHUFFLE_SIZE\n",
    ").batch(\n",
    "    batch_size=BATCH_SIZE\n",
    ").map(\n",
    "    lambda data, labels: {\n",
    "        \"data\": tf.cast(data, \"float32\"),\n",
    "        \"labels\": tf.one_hot(labels, NUM_CLASSES),\n",
    "    },\n",
    "    num_parallel_calls=tf.data.AUTOTUNE,\n",
    ").map(\n",
    "    augmenter,\n",
    "    num_parallel_calls=tf.data.AUTOTUNE\n",
    ").map(\n",
    "    lambda data: (data[\"data\"], data[\"labels\"]),\n",
    "    num_parallel_calls=tf.data.AUTOTUNE,\n",
    ").prefetch(\n",
    "    tf.data.AUTOTUNE\n",
    ")"
   ]
  },
  {
   "cell_type": "code",
   "execution_count": 10,
   "metadata": {},
   "outputs": [],
   "source": [
    "val_ds = val_ds.shuffle(\n",
    "    buffer_size=SHUFFLE_SIZE\n",
    ").batch(\n",
    "    batch_size=BATCH_SIZE\n",
    ").map(\n",
    "    lambda data, labels: {\n",
    "        \"data\": tf.cast(data, \"float32\"),\n",
    "        \"labels\": tf.one_hot(labels, NUM_CLASSES),\n",
    "    },\n",
    "    num_parallel_calls=tf.data.AUTOTUNE,\n",
    ").map(\n",
    "    augmenter,\n",
    "    num_parallel_calls=tf.data.AUTOTUNE\n",
    ").map(\n",
    "    lambda data: (data[\"data\"], data[\"labels\"]),\n",
    "    num_parallel_calls=tf.data.AUTOTUNE,\n",
    ").cache().prefetch(\n",
    "    tf.data.AUTOTUNE\n",
    ")"
   ]
  },
  {
   "cell_type": "code",
   "execution_count": 11,
   "metadata": {},
   "outputs": [],
   "source": [
    "inputs = keras.Input(shape=(CROP_SIZE, CROP_SIZE, 3), name='inputs')\n",
    "\n",
    "model = nse.models.EfficientNetV2(\n",
    "    x=inputs,\n",
    "    params=nse.models.EfficientNetParams(\n",
    "        input_filters=32,\n",
    "        input_kernel_size=(3, 3),\n",
    "        input_strides=(2, 2),\n",
    "        blocks=[\n",
    "            nse.models.MBConvParams(filters=48, depth=2, kernel_size=(3, 3), strides=(2, 2), ex_ratio=1, se_ratio=4),\n",
    "            nse.models.MBConvParams(filters=64, depth=2, kernel_size=(3, 3), strides=(2, 2), ex_ratio=1, se_ratio=4),\n",
    "            nse.models.MBConvParams(filters=96, depth=2, kernel_size=(3, 3), strides=(1, 1), ex_ratio=1, se_ratio=4),\n",
    "            nse.models.MBConvParams(filters=128, depth=1, kernel_size=(3, 3), strides=(2, 2), ex_ratio=1, se_ratio=4)\n",
    "        ],\n",
    "        output_filters=0,\n",
    "        include_top=True,\n",
    "        dropout=0.2,\n",
    "        drop_connect_rate=0.2,\n",
    "        model_name=\"efficientnetv2\"\n",
    "    ),\n",
    "    num_classes=NUM_CLASSES,\n",
    ")"
   ]
  },
  {
   "cell_type": "code",
   "execution_count": 12,
   "metadata": {},
   "outputs": [
    {
     "name": "stdout",
     "output_type": "stream",
     "text": [
      "WARNING:tensorflow:From /workspaces/neuralspot-edge/.venv/lib/python3.12/site-packages/tensorflow/python/ops/nn_ops.py:5256: tensor_shape_from_node_def_name (from tensorflow.python.framework.graph_util_impl) is deprecated and will be removed in a future version.\n",
      "Instructions for updating:\n",
      "This API was designed for TensorFlow v1. See https://www.tensorflow.org/guide/migrate for instructions on how to migrate your code to TensorFlow v2.\n"
     ]
    },
    {
     "data": {
      "text/html": [
       "<pre style=\"white-space:pre;overflow-x:auto;line-height:normal;font-family:Menlo,'DejaVu Sans Mono',consolas,'Courier New',monospace\"><span style=\"color: #7fbfbf; text-decoration-color: #7fbfbf\">[08/20/24 21:41:24] </span><span style=\"color: #800000; text-decoration-color: #800000\">WARNING </span> WARNING:tensorflow:From                                              <a href=\"file:///workspaces/neuralspot-edge/.venv/lib/python3.12/site-packages/tensorflow/python/util/deprecation.py\" target=\"_blank\"><span style=\"color: #7f7f7f; text-decoration-color: #7f7f7f\">deprecation.py</span></a><span style=\"color: #7f7f7f; text-decoration-color: #7f7f7f\">:</span><a href=\"file:///workspaces/neuralspot-edge/.venv/lib/python3.12/site-packages/tensorflow/python/util/deprecation.py#50\" target=\"_blank\"><span style=\"color: #7f7f7f; text-decoration-color: #7f7f7f\">50</span></a>\n",
       "<span style=\"color: #7fbfbf; text-decoration-color: #7fbfbf\">                    </span>         <span style=\"color: #800080; text-decoration-color: #800080\">/workspaces/neuralspot-edge/.venv/lib/python3.12/site-packages/tenso</span> <span style=\"color: #7f7f7f; text-decoration-color: #7f7f7f\">                 </span>\n",
       "<span style=\"color: #7fbfbf; text-decoration-color: #7fbfbf\">                    </span>         <span style=\"color: #800080; text-decoration-color: #800080\">rflow/python/ops/</span><span style=\"color: #ff00ff; text-decoration-color: #ff00ff\">nn_ops.py</span>:<span style=\"color: #008080; text-decoration-color: #008080; font-weight: bold\">5256</span>: tensor_shape_from_node_def_name     <span style=\"color: #7f7f7f; text-decoration-color: #7f7f7f\">                 </span>\n",
       "<span style=\"color: #7fbfbf; text-decoration-color: #7fbfbf\">                    </span>         <span style=\"font-weight: bold\">(</span>from tensorflow.python.framework.graph_util_impl<span style=\"font-weight: bold\">)</span> is deprecated and <span style=\"color: #7f7f7f; text-decoration-color: #7f7f7f\">                 </span>\n",
       "<span style=\"color: #7fbfbf; text-decoration-color: #7fbfbf\">                    </span>         will be removed in a future version.                                 <span style=\"color: #7f7f7f; text-decoration-color: #7f7f7f\">                 </span>\n",
       "<span style=\"color: #7fbfbf; text-decoration-color: #7fbfbf\">                    </span>         Instructions for updating:                                           <span style=\"color: #7f7f7f; text-decoration-color: #7f7f7f\">                 </span>\n",
       "<span style=\"color: #7fbfbf; text-decoration-color: #7fbfbf\">                    </span>         This API was designed for TensorFlow v1. See                         <span style=\"color: #7f7f7f; text-decoration-color: #7f7f7f\">                 </span>\n",
       "<span style=\"color: #7fbfbf; text-decoration-color: #7fbfbf\">                    </span>         <span style=\"color: #0000ff; text-decoration-color: #0000ff; text-decoration: underline\">https://www.tensorflow.org/guide/migrate</span> for instructions on how to  <span style=\"color: #7f7f7f; text-decoration-color: #7f7f7f\">                 </span>\n",
       "<span style=\"color: #7fbfbf; text-decoration-color: #7fbfbf\">                    </span>         migrate your code to TensorFlow v2.                                  <span style=\"color: #7f7f7f; text-decoration-color: #7f7f7f\">                 </span>\n",
       "</pre>\n"
      ],
      "text/plain": [
       "\u001b[2;36m[08/20/24 21:41:24]\u001b[0m\u001b[2;36m \u001b[0m\u001b[31mWARNING \u001b[0m WARNING:tensorflow:From                                              \u001b]8;id=271574;file:///workspaces/neuralspot-edge/.venv/lib/python3.12/site-packages/tensorflow/python/util/deprecation.py\u001b\\\u001b[2mdeprecation.py\u001b[0m\u001b]8;;\u001b\\\u001b[2m:\u001b[0m\u001b]8;id=333808;file:///workspaces/neuralspot-edge/.venv/lib/python3.12/site-packages/tensorflow/python/util/deprecation.py#50\u001b\\\u001b[2m50\u001b[0m\u001b]8;;\u001b\\\n",
       "\u001b[2;36m                    \u001b[0m         \u001b[35m/workspaces/neuralspot-edge/.venv/lib/python3.12/site-packages/tenso\u001b[0m \u001b[2m                 \u001b[0m\n",
       "\u001b[2;36m                    \u001b[0m         \u001b[35mrflow/python/ops/\u001b[0m\u001b[95mnn_ops.py\u001b[0m:\u001b[1;36m5256\u001b[0m: tensor_shape_from_node_def_name     \u001b[2m                 \u001b[0m\n",
       "\u001b[2;36m                    \u001b[0m         \u001b[1m(\u001b[0mfrom tensorflow.python.framework.graph_util_impl\u001b[1m)\u001b[0m is deprecated and \u001b[2m                 \u001b[0m\n",
       "\u001b[2;36m                    \u001b[0m         will be removed in a future version.                                 \u001b[2m                 \u001b[0m\n",
       "\u001b[2;36m                    \u001b[0m         Instructions for updating:                                           \u001b[2m                 \u001b[0m\n",
       "\u001b[2;36m                    \u001b[0m         This API was designed for TensorFlow v1. See                         \u001b[2m                 \u001b[0m\n",
       "\u001b[2;36m                    \u001b[0m         \u001b[4;94mhttps://www.tensorflow.org/guide/migrate\u001b[0m for instructions on how to  \u001b[2m                 \u001b[0m\n",
       "\u001b[2;36m                    \u001b[0m         migrate your code to TensorFlow v2.                                  \u001b[2m                 \u001b[0m\n"
      ]
     },
     "metadata": {},
     "output_type": "display_data"
    },
    {
     "data": {
      "text/html": [
       "<pre style=\"white-space:pre;overflow-x:auto;line-height:normal;font-family:Menlo,'DejaVu Sans Mono',consolas,'Courier New',monospace\"><span style=\"font-weight: bold\">Model: \"EfficientNetV2\"</span>\n",
       "</pre>\n"
      ],
      "text/plain": [
       "\u001b[1mModel: \"EfficientNetV2\"\u001b[0m\n"
      ]
     },
     "metadata": {},
     "output_type": "display_data"
    },
    {
     "data": {
      "text/html": [
       "<pre style=\"white-space:pre;overflow-x:auto;line-height:normal;font-family:Menlo,'DejaVu Sans Mono',consolas,'Courier New',monospace\">┏━━━━━━━━━━━━━━━━━━━━━┳━━━━━━━━━━━━━━━━━━━┳━━━━━━━━━━━━┳━━━━━━━━━━━━━━━━━━━┓\n",
       "┃<span style=\"font-weight: bold\"> Layer (type)        </span>┃<span style=\"font-weight: bold\"> Output Shape      </span>┃<span style=\"font-weight: bold\">    Param # </span>┃<span style=\"font-weight: bold\"> Connected to      </span>┃\n",
       "┡━━━━━━━━━━━━━━━━━━━━━╇━━━━━━━━━━━━━━━━━━━╇━━━━━━━━━━━━╇━━━━━━━━━━━━━━━━━━━┩\n",
       "│ inputs (<span style=\"color: #0087ff; text-decoration-color: #0087ff\">InputLayer</span>) │ (<span style=\"color: #00d7ff; text-decoration-color: #00d7ff\">None</span>, <span style=\"color: #00af00; text-decoration-color: #00af00\">64</span>, <span style=\"color: #00af00; text-decoration-color: #00af00\">64</span>, <span style=\"color: #00af00; text-decoration-color: #00af00\">3</span>) │          <span style=\"color: #00af00; text-decoration-color: #00af00\">0</span> │ -                 │\n",
       "├─────────────────────┼───────────────────┼────────────┼───────────────────┤\n",
       "│ stem.conv (<span style=\"color: #0087ff; text-decoration-color: #0087ff\">Conv2D</span>)  │ (<span style=\"color: #00d7ff; text-decoration-color: #00d7ff\">None</span>, <span style=\"color: #00af00; text-decoration-color: #00af00\">32</span>, <span style=\"color: #00af00; text-decoration-color: #00af00\">32</span>,    │        <span style=\"color: #00af00; text-decoration-color: #00af00\">864</span> │ inputs[<span style=\"color: #00af00; text-decoration-color: #00af00\">0</span>][<span style=\"color: #00af00; text-decoration-color: #00af00\">0</span>]      │\n",
       "│                     │ <span style=\"color: #00af00; text-decoration-color: #00af00\">32</span>)               │            │                   │\n",
       "├─────────────────────┼───────────────────┼────────────┼───────────────────┤\n",
       "│ stem.bn             │ (<span style=\"color: #00d7ff; text-decoration-color: #00d7ff\">None</span>, <span style=\"color: #00af00; text-decoration-color: #00af00\">32</span>, <span style=\"color: #00af00; text-decoration-color: #00af00\">32</span>,    │        <span style=\"color: #00af00; text-decoration-color: #00af00\">128</span> │ stem.conv[<span style=\"color: #00af00; text-decoration-color: #00af00\">0</span>][<span style=\"color: #00af00; text-decoration-color: #00af00\">0</span>]   │\n",
       "│ (<span style=\"color: #0087ff; text-decoration-color: #0087ff\">BatchNormalizatio…</span> │ <span style=\"color: #00af00; text-decoration-color: #00af00\">32</span>)               │            │                   │\n",
       "├─────────────────────┼───────────────────┼────────────┼───────────────────┤\n",
       "│ stem.act            │ (<span style=\"color: #00d7ff; text-decoration-color: #00d7ff\">None</span>, <span style=\"color: #00af00; text-decoration-color: #00af00\">32</span>, <span style=\"color: #00af00; text-decoration-color: #00af00\">32</span>,    │          <span style=\"color: #00af00; text-decoration-color: #00af00\">0</span> │ stem.bn[<span style=\"color: #00af00; text-decoration-color: #00af00\">0</span>][<span style=\"color: #00af00; text-decoration-color: #00af00\">0</span>]     │\n",
       "│ (<span style=\"color: #0087ff; text-decoration-color: #0087ff\">Activation</span>)        │ <span style=\"color: #00af00; text-decoration-color: #00af00\">32</span>)               │            │                   │\n",
       "├─────────────────────┼───────────────────┼────────────┼───────────────────┤\n",
       "│ stage1.mbconv1.dp   │ (<span style=\"color: #00d7ff; text-decoration-color: #00d7ff\">None</span>, <span style=\"color: #00af00; text-decoration-color: #00af00\">16</span>, <span style=\"color: #00af00; text-decoration-color: #00af00\">16</span>,    │        <span style=\"color: #00af00; text-decoration-color: #00af00\">288</span> │ stem.act[<span style=\"color: #00af00; text-decoration-color: #00af00\">0</span>][<span style=\"color: #00af00; text-decoration-color: #00af00\">0</span>]    │\n",
       "│ (<span style=\"color: #0087ff; text-decoration-color: #0087ff\">DepthwiseConv2D</span>)   │ <span style=\"color: #00af00; text-decoration-color: #00af00\">32</span>)               │            │                   │\n",
       "├─────────────────────┼───────────────────┼────────────┼───────────────────┤\n",
       "│ stage1.mbconv1.dp.… │ (<span style=\"color: #00d7ff; text-decoration-color: #00d7ff\">None</span>, <span style=\"color: #00af00; text-decoration-color: #00af00\">16</span>, <span style=\"color: #00af00; text-decoration-color: #00af00\">16</span>,    │        <span style=\"color: #00af00; text-decoration-color: #00af00\">128</span> │ stage1.mbconv1.d… │\n",
       "│ (<span style=\"color: #0087ff; text-decoration-color: #0087ff\">BatchNormalizatio…</span> │ <span style=\"color: #00af00; text-decoration-color: #00af00\">32</span>)               │            │                   │\n",
       "├─────────────────────┼───────────────────┼────────────┼───────────────────┤\n",
       "│ stage1.mbconv1.dp.… │ (<span style=\"color: #00d7ff; text-decoration-color: #00d7ff\">None</span>, <span style=\"color: #00af00; text-decoration-color: #00af00\">16</span>, <span style=\"color: #00af00; text-decoration-color: #00af00\">16</span>,    │          <span style=\"color: #00af00; text-decoration-color: #00af00\">0</span> │ stage1.mbconv1.d… │\n",
       "│ (<span style=\"color: #0087ff; text-decoration-color: #0087ff\">Activation</span>)        │ <span style=\"color: #00af00; text-decoration-color: #00af00\">32</span>)               │            │                   │\n",
       "├─────────────────────┼───────────────────┼────────────┼───────────────────┤\n",
       "│ stage1.mbconv1.se.… │ (<span style=\"color: #00d7ff; text-decoration-color: #00d7ff\">None</span>, <span style=\"color: #00af00; text-decoration-color: #00af00\">1</span>, <span style=\"color: #00af00; text-decoration-color: #00af00\">1</span>, <span style=\"color: #00af00; text-decoration-color: #00af00\">32</span>)  │          <span style=\"color: #00af00; text-decoration-color: #00af00\">0</span> │ stage1.mbconv1.d… │\n",
       "│ (<span style=\"color: #0087ff; text-decoration-color: #0087ff\">GlobalAveragePool…</span> │                   │            │                   │\n",
       "├─────────────────────┼───────────────────┼────────────┼───────────────────┤\n",
       "│ stage1.mbconv1.se.… │ (<span style=\"color: #00d7ff; text-decoration-color: #00d7ff\">None</span>, <span style=\"color: #00af00; text-decoration-color: #00af00\">1</span>, <span style=\"color: #00af00; text-decoration-color: #00af00\">1</span>, <span style=\"color: #00af00; text-decoration-color: #00af00\">8</span>)   │        <span style=\"color: #00af00; text-decoration-color: #00af00\">264</span> │ stage1.mbconv1.s… │\n",
       "│ (<span style=\"color: #0087ff; text-decoration-color: #0087ff\">Conv2D</span>)            │                   │            │                   │\n",
       "├─────────────────────┼───────────────────┼────────────┼───────────────────┤\n",
       "│ stage1.mbconv1.se.… │ (<span style=\"color: #00d7ff; text-decoration-color: #00d7ff\">None</span>, <span style=\"color: #00af00; text-decoration-color: #00af00\">1</span>, <span style=\"color: #00af00; text-decoration-color: #00af00\">1</span>, <span style=\"color: #00af00; text-decoration-color: #00af00\">8</span>)   │          <span style=\"color: #00af00; text-decoration-color: #00af00\">0</span> │ stage1.mbconv1.s… │\n",
       "│ (<span style=\"color: #0087ff; text-decoration-color: #0087ff\">Activation</span>)        │                   │            │                   │\n",
       "├─────────────────────┼───────────────────┼────────────┼───────────────────┤\n",
       "│ stage1.mbconv1.se.… │ (<span style=\"color: #00d7ff; text-decoration-color: #00d7ff\">None</span>, <span style=\"color: #00af00; text-decoration-color: #00af00\">1</span>, <span style=\"color: #00af00; text-decoration-color: #00af00\">1</span>, <span style=\"color: #00af00; text-decoration-color: #00af00\">32</span>)  │        <span style=\"color: #00af00; text-decoration-color: #00af00\">288</span> │ stage1.mbconv1.s… │\n",
       "│ (<span style=\"color: #0087ff; text-decoration-color: #0087ff\">Conv2D</span>)            │                   │            │                   │\n",
       "└─────────────────────┴───────────────────┴────────────┴───────────────────┘\n",
       "</pre>\n"
      ],
      "text/plain": [
       "┏━━━━━━━━━━━━━━━━━━━━━┳━━━━━━━━━━━━━━━━━━━┳━━━━━━━━━━━━┳━━━━━━━━━━━━━━━━━━━┓\n",
       "┃\u001b[1m \u001b[0m\u001b[1mLayer (type)       \u001b[0m\u001b[1m \u001b[0m┃\u001b[1m \u001b[0m\u001b[1mOutput Shape     \u001b[0m\u001b[1m \u001b[0m┃\u001b[1m \u001b[0m\u001b[1m   Param #\u001b[0m\u001b[1m \u001b[0m┃\u001b[1m \u001b[0m\u001b[1mConnected to     \u001b[0m\u001b[1m \u001b[0m┃\n",
       "┡━━━━━━━━━━━━━━━━━━━━━╇━━━━━━━━━━━━━━━━━━━╇━━━━━━━━━━━━╇━━━━━━━━━━━━━━━━━━━┩\n",
       "│ inputs (\u001b[38;5;33mInputLayer\u001b[0m) │ (\u001b[38;5;45mNone\u001b[0m, \u001b[38;5;34m64\u001b[0m, \u001b[38;5;34m64\u001b[0m, \u001b[38;5;34m3\u001b[0m) │          \u001b[38;5;34m0\u001b[0m │ -                 │\n",
       "├─────────────────────┼───────────────────┼────────────┼───────────────────┤\n",
       "│ stem.conv (\u001b[38;5;33mConv2D\u001b[0m)  │ (\u001b[38;5;45mNone\u001b[0m, \u001b[38;5;34m32\u001b[0m, \u001b[38;5;34m32\u001b[0m,    │        \u001b[38;5;34m864\u001b[0m │ inputs[\u001b[38;5;34m0\u001b[0m][\u001b[38;5;34m0\u001b[0m]      │\n",
       "│                     │ \u001b[38;5;34m32\u001b[0m)               │            │                   │\n",
       "├─────────────────────┼───────────────────┼────────────┼───────────────────┤\n",
       "│ stem.bn             │ (\u001b[38;5;45mNone\u001b[0m, \u001b[38;5;34m32\u001b[0m, \u001b[38;5;34m32\u001b[0m,    │        \u001b[38;5;34m128\u001b[0m │ stem.conv[\u001b[38;5;34m0\u001b[0m][\u001b[38;5;34m0\u001b[0m]   │\n",
       "│ (\u001b[38;5;33mBatchNormalizatio…\u001b[0m │ \u001b[38;5;34m32\u001b[0m)               │            │                   │\n",
       "├─────────────────────┼───────────────────┼────────────┼───────────────────┤\n",
       "│ stem.act            │ (\u001b[38;5;45mNone\u001b[0m, \u001b[38;5;34m32\u001b[0m, \u001b[38;5;34m32\u001b[0m,    │          \u001b[38;5;34m0\u001b[0m │ stem.bn[\u001b[38;5;34m0\u001b[0m][\u001b[38;5;34m0\u001b[0m]     │\n",
       "│ (\u001b[38;5;33mActivation\u001b[0m)        │ \u001b[38;5;34m32\u001b[0m)               │            │                   │\n",
       "├─────────────────────┼───────────────────┼────────────┼───────────────────┤\n",
       "│ stage1.mbconv1.dp   │ (\u001b[38;5;45mNone\u001b[0m, \u001b[38;5;34m16\u001b[0m, \u001b[38;5;34m16\u001b[0m,    │        \u001b[38;5;34m288\u001b[0m │ stem.act[\u001b[38;5;34m0\u001b[0m][\u001b[38;5;34m0\u001b[0m]    │\n",
       "│ (\u001b[38;5;33mDepthwiseConv2D\u001b[0m)   │ \u001b[38;5;34m32\u001b[0m)               │            │                   │\n",
       "├─────────────────────┼───────────────────┼────────────┼───────────────────┤\n",
       "│ stage1.mbconv1.dp.… │ (\u001b[38;5;45mNone\u001b[0m, \u001b[38;5;34m16\u001b[0m, \u001b[38;5;34m16\u001b[0m,    │        \u001b[38;5;34m128\u001b[0m │ stage1.mbconv1.d… │\n",
       "│ (\u001b[38;5;33mBatchNormalizatio…\u001b[0m │ \u001b[38;5;34m32\u001b[0m)               │            │                   │\n",
       "├─────────────────────┼───────────────────┼────────────┼───────────────────┤\n",
       "│ stage1.mbconv1.dp.… │ (\u001b[38;5;45mNone\u001b[0m, \u001b[38;5;34m16\u001b[0m, \u001b[38;5;34m16\u001b[0m,    │          \u001b[38;5;34m0\u001b[0m │ stage1.mbconv1.d… │\n",
       "│ (\u001b[38;5;33mActivation\u001b[0m)        │ \u001b[38;5;34m32\u001b[0m)               │            │                   │\n",
       "├─────────────────────┼───────────────────┼────────────┼───────────────────┤\n",
       "│ stage1.mbconv1.se.… │ (\u001b[38;5;45mNone\u001b[0m, \u001b[38;5;34m1\u001b[0m, \u001b[38;5;34m1\u001b[0m, \u001b[38;5;34m32\u001b[0m)  │          \u001b[38;5;34m0\u001b[0m │ stage1.mbconv1.d… │\n",
       "│ (\u001b[38;5;33mGlobalAveragePool…\u001b[0m │                   │            │                   │\n",
       "├─────────────────────┼───────────────────┼────────────┼───────────────────┤\n",
       "│ stage1.mbconv1.se.… │ (\u001b[38;5;45mNone\u001b[0m, \u001b[38;5;34m1\u001b[0m, \u001b[38;5;34m1\u001b[0m, \u001b[38;5;34m8\u001b[0m)   │        \u001b[38;5;34m264\u001b[0m │ stage1.mbconv1.s… │\n",
       "│ (\u001b[38;5;33mConv2D\u001b[0m)            │                   │            │                   │\n",
       "├─────────────────────┼───────────────────┼────────────┼───────────────────┤\n",
       "│ stage1.mbconv1.se.… │ (\u001b[38;5;45mNone\u001b[0m, \u001b[38;5;34m1\u001b[0m, \u001b[38;5;34m1\u001b[0m, \u001b[38;5;34m8\u001b[0m)   │          \u001b[38;5;34m0\u001b[0m │ stage1.mbconv1.s… │\n",
       "│ (\u001b[38;5;33mActivation\u001b[0m)        │                   │            │                   │\n",
       "├─────────────────────┼───────────────────┼────────────┼───────────────────┤\n",
       "│ stage1.mbconv1.se.… │ (\u001b[38;5;45mNone\u001b[0m, \u001b[38;5;34m1\u001b[0m, \u001b[38;5;34m1\u001b[0m, \u001b[38;5;34m32\u001b[0m)  │        \u001b[38;5;34m288\u001b[0m │ stage1.mbconv1.s… │\n",
       "│ (\u001b[38;5;33mConv2D\u001b[0m)            │                   │            │                   │\n",
       "└─────────────────────┴───────────────────┴────────────┴───────────────────┘\n"
      ]
     },
     "metadata": {},
     "output_type": "display_data"
    },
    {
     "data": {
      "text/html": [
       "<pre style=\"white-space:pre;overflow-x:auto;line-height:normal;font-family:Menlo,'DejaVu Sans Mono',consolas,'Courier New',monospace\"><span style=\"font-weight: bold\"> Total params: </span><span style=\"color: #00af00; text-decoration-color: #00af00\">65,626</span> (256.35 KB)\n",
       "</pre>\n"
      ],
      "text/plain": [
       "\u001b[1m Total params: \u001b[0m\u001b[38;5;34m65,626\u001b[0m (256.35 KB)\n"
      ]
     },
     "metadata": {},
     "output_type": "display_data"
    },
    {
     "data": {
      "text/html": [
       "<pre style=\"white-space:pre;overflow-x:auto;line-height:normal;font-family:Menlo,'DejaVu Sans Mono',consolas,'Courier New',monospace\"><span style=\"font-weight: bold\"> Trainable params: </span><span style=\"color: #00af00; text-decoration-color: #00af00\">63,578</span> (248.35 KB)\n",
       "</pre>\n"
      ],
      "text/plain": [
       "\u001b[1m Trainable params: \u001b[0m\u001b[38;5;34m63,578\u001b[0m (248.35 KB)\n"
      ]
     },
     "metadata": {},
     "output_type": "display_data"
    },
    {
     "data": {
      "text/html": [
       "<pre style=\"white-space:pre;overflow-x:auto;line-height:normal;font-family:Menlo,'DejaVu Sans Mono',consolas,'Courier New',monospace\"><span style=\"font-weight: bold\"> Non-trainable params: </span><span style=\"color: #00af00; text-decoration-color: #00af00\">2,048</span> (8.00 KB)\n",
       "</pre>\n"
      ],
      "text/plain": [
       "\u001b[1m Non-trainable params: \u001b[0m\u001b[38;5;34m2,048\u001b[0m (8.00 KB)\n"
      ]
     },
     "metadata": {},
     "output_type": "display_data"
    },
    {
     "name": "stdout",
     "output_type": "stream",
     "text": [
      "FLOPS: 8.11M\n"
     ]
    }
   ],
   "source": [
    "flops = nse.metrics.flops.get_flops(model, batch_size=1, fpath=os.devnull)\n",
    "model.summary(layer_range=('inputs', model.layers[10].name))\n",
    "print(f\"FLOPS: {flops/1e6:.2f}M\")"
   ]
  },
  {
   "cell_type": "code",
   "execution_count": 16,
   "metadata": {},
   "outputs": [],
   "source": [
    "t_mul = 1\n",
    "first_steps = (EPOCHS * len(train_ds)) / (np.power(LR_CYCLES, t_mul) - t_mul + 1)\n",
    "scheduler = keras.optimizers.schedules.CosineDecayRestarts(\n",
    "    initial_learning_rate=LR_RATE,\n",
    "    first_decay_steps=np.ceil(first_steps),\n",
    "    t_mul=t_mul,\n",
    "    m_mul=0.5,\n",
    ")\n",
    "\n",
    "optimizer = keras.optimizers.Adam(scheduler)\n",
    "loss = keras.losses.CategoricalCrossentropy(from_logits=True)\n",
    "\n",
    "metrics = [\n",
    "    keras.metrics.CategoricalAccuracy(name=\"acc\"),\n",
    "    keras.metrics.F1Score(name=\"f1\", average=\"weighted\"),\n",
    "]\n",
    "\n",
    "callbacks = [\n",
    "    keras.callbacks.EarlyStopping(\n",
    "        monitor=\"val_loss\",\n",
    "        patience=25,\n",
    "        restore_best_weights=True,\n",
    "        verbose=VERBOSE\n",
    "    ),\n",
    "    keras.callbacks.ModelCheckpoint(\n",
    "        monitor=\"val_loss\",\n",
    "        verbose=VERBOSE,\n",
    "        save_best_only=True,\n",
    "        filepath=\"model.keras\"\n",
    "    )\n",
    "]\n"
   ]
  },
  {
   "cell_type": "code",
   "execution_count": 17,
   "metadata": {},
   "outputs": [],
   "source": [
    "model.compile(\n",
    "    optimizer=optimizer,\n",
    "    loss=loss,\n",
    "    metrics=metrics,\n",
    ")"
   ]
  },
  {
   "cell_type": "code",
   "execution_count": 18,
   "metadata": {},
   "outputs": [
    {
     "name": "stdout",
     "output_type": "stream",
     "text": [
      "Epoch 1/100\n"
     ]
    },
    {
     "name": "stdout",
     "output_type": "stream",
     "text": [
      "\u001b[1m196/196\u001b[0m \u001b[32m━━━━━━━━━━━━━━━━━━━━\u001b[0m\u001b[37m\u001b[0m \u001b[1m0s\u001b[0m 35ms/step - acc: 0.7750 - f1: 0.7745 - loss: 0.6407\n",
      "Epoch 1: val_loss improved from inf to 0.79992, saving model to model.keras\n",
      "\u001b[1m196/196\u001b[0m \u001b[32m━━━━━━━━━━━━━━━━━━━━\u001b[0m\u001b[37m\u001b[0m \u001b[1m18s\u001b[0m 44ms/step - acc: 0.7750 - f1: 0.7745 - loss: 0.6407 - val_acc: 0.7270 - val_f1: 0.7266 - val_loss: 0.7999\n",
      "Epoch 2/100\n",
      "\u001b[1m192/196\u001b[0m \u001b[32m━━━━━━━━━━━━━━━━━━━\u001b[0m\u001b[37m━\u001b[0m \u001b[1m0s\u001b[0m 6ms/step - acc: 0.7805 - f1: 0.7800 - loss: 0.6183\n",
      "Epoch 2: val_loss improved from 0.79992 to 0.79382, saving model to model.keras\n",
      "\u001b[1m196/196\u001b[0m \u001b[32m━━━━━━━━━━━━━━━━━━━━\u001b[0m\u001b[37m\u001b[0m \u001b[1m2s\u001b[0m 8ms/step - acc: 0.7806 - f1: 0.7801 - loss: 0.6182 - val_acc: 0.7278 - val_f1: 0.7245 - val_loss: 0.7938\n",
      "Epoch 3/100\n",
      "\u001b[1m195/196\u001b[0m \u001b[32m━━━━━━━━━━━━━━━━━━━\u001b[0m\u001b[37m━\u001b[0m \u001b[1m0s\u001b[0m 4ms/step - acc: 0.7863 - f1: 0.7859 - loss: 0.5987\n",
      "Epoch 3: val_loss did not improve from 0.79382\n",
      "\u001b[1m196/196\u001b[0m \u001b[32m━━━━━━━━━━━━━━━━━━━━\u001b[0m\u001b[37m\u001b[0m \u001b[1m1s\u001b[0m 5ms/step - acc: 0.7863 - f1: 0.7859 - loss: 0.5987 - val_acc: 0.7234 - val_f1: 0.7234 - val_loss: 0.8143\n",
      "Epoch 4/100\n",
      "\u001b[1m190/196\u001b[0m \u001b[32m━━━━━━━━━━━━━━━━━━━\u001b[0m\u001b[37m━\u001b[0m \u001b[1m0s\u001b[0m 5ms/step - acc: 0.7908 - f1: 0.7905 - loss: 0.5915\n",
      "Epoch 4: val_loss improved from 0.79382 to 0.78822, saving model to model.keras\n",
      "\u001b[1m196/196\u001b[0m \u001b[32m━━━━━━━━━━━━━━━━━━━━\u001b[0m\u001b[37m\u001b[0m \u001b[1m1s\u001b[0m 6ms/step - acc: 0.7908 - f1: 0.7905 - loss: 0.5914 - val_acc: 0.7344 - val_f1: 0.7309 - val_loss: 0.7882\n",
      "Epoch 5/100\n",
      "\u001b[1m195/196\u001b[0m \u001b[32m━━━━━━━━━━━━━━━━━━━\u001b[0m\u001b[37m━\u001b[0m \u001b[1m0s\u001b[0m 5ms/step - acc: 0.7970 - f1: 0.7967 - loss: 0.5690\n",
      "Epoch 5: val_loss did not improve from 0.78822\n",
      "\u001b[1m196/196\u001b[0m \u001b[32m━━━━━━━━━━━━━━━━━━━━\u001b[0m\u001b[37m\u001b[0m \u001b[1m1s\u001b[0m 7ms/step - acc: 0.7970 - f1: 0.7967 - loss: 0.5690 - val_acc: 0.7226 - val_f1: 0.7221 - val_loss: 0.8140\n",
      "Epoch 6/100\n",
      "\u001b[1m186/196\u001b[0m \u001b[32m━━━━━━━━━━━━━━━━━━\u001b[0m\u001b[37m━━\u001b[0m \u001b[1m0s\u001b[0m 4ms/step - acc: 0.7971 - f1: 0.7968 - loss: 0.5708\n",
      "Epoch 6: val_loss did not improve from 0.78822\n",
      "\u001b[1m196/196\u001b[0m \u001b[32m━━━━━━━━━━━━━━━━━━━━\u001b[0m\u001b[37m\u001b[0m \u001b[1m1s\u001b[0m 6ms/step - acc: 0.7972 - f1: 0.7970 - loss: 0.5705 - val_acc: 0.7345 - val_f1: 0.7320 - val_loss: 0.7962\n",
      "Epoch 7/100\n",
      "\u001b[1m188/196\u001b[0m \u001b[32m━━━━━━━━━━━━━━━━━━━\u001b[0m\u001b[37m━\u001b[0m \u001b[1m0s\u001b[0m 5ms/step - acc: 0.8020 - f1: 0.8017 - loss: 0.5522\n",
      "Epoch 7: val_loss improved from 0.78822 to 0.77911, saving model to model.keras\n",
      "\u001b[1m196/196\u001b[0m \u001b[32m━━━━━━━━━━━━━━━━━━━━\u001b[0m\u001b[37m\u001b[0m \u001b[1m1s\u001b[0m 6ms/step - acc: 0.8021 - f1: 0.8018 - loss: 0.5521 - val_acc: 0.7366 - val_f1: 0.7383 - val_loss: 0.7791\n",
      "Epoch 8/100\n",
      "\u001b[1m185/196\u001b[0m \u001b[32m━━━━━━━━━━━━━━━━━━\u001b[0m\u001b[37m━━\u001b[0m \u001b[1m0s\u001b[0m 5ms/step - acc: 0.8113 - f1: 0.8110 - loss: 0.5360\n",
      "Epoch 8: val_loss did not improve from 0.77911\n",
      "\u001b[1m196/196\u001b[0m \u001b[32m━━━━━━━━━━━━━━━━━━━━\u001b[0m\u001b[37m\u001b[0m \u001b[1m1s\u001b[0m 5ms/step - acc: 0.8112 - f1: 0.8109 - loss: 0.5361 - val_acc: 0.7354 - val_f1: 0.7367 - val_loss: 0.7890\n",
      "Epoch 9/100\n",
      "\u001b[1m194/196\u001b[0m \u001b[32m━━━━━━━━━━━━━━━━━━━\u001b[0m\u001b[37m━\u001b[0m \u001b[1m0s\u001b[0m 4ms/step - acc: 0.8095 - f1: 0.8091 - loss: 0.5300\n",
      "Epoch 9: val_loss did not improve from 0.77911\n",
      "\u001b[1m196/196\u001b[0m \u001b[32m━━━━━━━━━━━━━━━━━━━━\u001b[0m\u001b[37m\u001b[0m \u001b[1m1s\u001b[0m 5ms/step - acc: 0.8096 - f1: 0.8092 - loss: 0.5299 - val_acc: 0.7333 - val_f1: 0.7317 - val_loss: 0.7839\n",
      "Epoch 10/100\n",
      "\u001b[1m185/196\u001b[0m \u001b[32m━━━━━━━━━━━━━━━━━━\u001b[0m\u001b[37m━━\u001b[0m \u001b[1m0s\u001b[0m 5ms/step - acc: 0.8163 - f1: 0.8158 - loss: 0.5183\n",
      "Epoch 10: val_loss did not improve from 0.77911\n",
      "\u001b[1m196/196\u001b[0m \u001b[32m━━━━━━━━━━━━━━━━━━━━\u001b[0m\u001b[37m\u001b[0m \u001b[1m1s\u001b[0m 5ms/step - acc: 0.8163 - f1: 0.8159 - loss: 0.5182 - val_acc: 0.7308 - val_f1: 0.7281 - val_loss: 0.8163\n",
      "Epoch 11/100\n",
      "\u001b[1m190/196\u001b[0m \u001b[32m━━━━━━━━━━━━━━━━━━━\u001b[0m\u001b[37m━\u001b[0m \u001b[1m0s\u001b[0m 4ms/step - acc: 0.8198 - f1: 0.8196 - loss: 0.5069\n",
      "Epoch 11: val_loss did not improve from 0.77911\n",
      "\u001b[1m196/196\u001b[0m \u001b[32m━━━━━━━━━━━━━━━━━━━━\u001b[0m\u001b[37m\u001b[0m \u001b[1m1s\u001b[0m 5ms/step - acc: 0.8199 - f1: 0.8197 - loss: 0.5068 - val_acc: 0.7386 - val_f1: 0.7343 - val_loss: 0.8103\n",
      "Epoch 12/100\n",
      "\u001b[1m196/196\u001b[0m \u001b[32m━━━━━━━━━━━━━━━━━━━━\u001b[0m\u001b[37m\u001b[0m \u001b[1m0s\u001b[0m 6ms/step - acc: 0.8254 - f1: 0.8252 - loss: 0.4924\n",
      "Epoch 12: val_loss did not improve from 0.77911\n",
      "\u001b[1m196/196\u001b[0m \u001b[32m━━━━━━━━━━━━━━━━━━━━\u001b[0m\u001b[37m\u001b[0m \u001b[1m1s\u001b[0m 7ms/step - acc: 0.8254 - f1: 0.8252 - loss: 0.4924 - val_acc: 0.7293 - val_f1: 0.7228 - val_loss: 0.8508\n",
      "Epoch 13/100\n",
      "\u001b[1m194/196\u001b[0m \u001b[32m━━━━━━━━━━━━━━━━━━━\u001b[0m\u001b[37m━\u001b[0m \u001b[1m0s\u001b[0m 6ms/step - acc: 0.8237 - f1: 0.8235 - loss: 0.4982\n",
      "Epoch 13: val_loss did not improve from 0.77911\n",
      "\u001b[1m196/196\u001b[0m \u001b[32m━━━━━━━━━━━━━━━━━━━━\u001b[0m\u001b[37m\u001b[0m \u001b[1m1s\u001b[0m 7ms/step - acc: 0.8238 - f1: 0.8235 - loss: 0.4980 - val_acc: 0.7406 - val_f1: 0.7370 - val_loss: 0.7948\n",
      "Epoch 14/100\n",
      "\u001b[1m192/196\u001b[0m \u001b[32m━━━━━━━━━━━━━━━━━━━\u001b[0m\u001b[37m━\u001b[0m \u001b[1m0s\u001b[0m 4ms/step - acc: 0.8325 - f1: 0.8323 - loss: 0.4710\n",
      "Epoch 14: val_loss did not improve from 0.77911\n",
      "\u001b[1m196/196\u001b[0m \u001b[32m━━━━━━━━━━━━━━━━━━━━\u001b[0m\u001b[37m\u001b[0m \u001b[1m1s\u001b[0m 5ms/step - acc: 0.8325 - f1: 0.8323 - loss: 0.4710 - val_acc: 0.7272 - val_f1: 0.7286 - val_loss: 0.8584\n",
      "Epoch 15/100\n",
      "\u001b[1m194/196\u001b[0m \u001b[32m━━━━━━━━━━━━━━━━━━━\u001b[0m\u001b[37m━\u001b[0m \u001b[1m0s\u001b[0m 6ms/step - acc: 0.8336 - f1: 0.8334 - loss: 0.4695\n",
      "Epoch 15: val_loss did not improve from 0.77911\n",
      "\u001b[1m196/196\u001b[0m \u001b[32m━━━━━━━━━━━━━━━━━━━━\u001b[0m\u001b[37m\u001b[0m \u001b[1m1s\u001b[0m 7ms/step - acc: 0.8336 - f1: 0.8335 - loss: 0.4694 - val_acc: 0.7404 - val_f1: 0.7397 - val_loss: 0.7987\n",
      "Epoch 16/100\n",
      "\u001b[1m191/196\u001b[0m \u001b[32m━━━━━━━━━━━━━━━━━━━\u001b[0m\u001b[37m━\u001b[0m \u001b[1m0s\u001b[0m 5ms/step - acc: 0.8378 - f1: 0.8377 - loss: 0.4534\n",
      "Epoch 16: val_loss did not improve from 0.77911\n",
      "\u001b[1m196/196\u001b[0m \u001b[32m━━━━━━━━━━━━━━━━━━━━\u001b[0m\u001b[37m\u001b[0m \u001b[1m1s\u001b[0m 6ms/step - acc: 0.8378 - f1: 0.8377 - loss: 0.4535 - val_acc: 0.7181 - val_f1: 0.7127 - val_loss: 0.9060\n",
      "Epoch 17/100\n",
      "\u001b[1m189/196\u001b[0m \u001b[32m━━━━━━━━━━━━━━━━━━━\u001b[0m\u001b[37m━\u001b[0m \u001b[1m0s\u001b[0m 4ms/step - acc: 0.8396 - f1: 0.8395 - loss: 0.4501\n",
      "Epoch 17: val_loss did not improve from 0.77911\n",
      "\u001b[1m196/196\u001b[0m \u001b[32m━━━━━━━━━━━━━━━━━━━━\u001b[0m\u001b[37m\u001b[0m \u001b[1m1s\u001b[0m 5ms/step - acc: 0.8397 - f1: 0.8396 - loss: 0.4499 - val_acc: 0.7414 - val_f1: 0.7380 - val_loss: 0.8023\n",
      "Epoch 18/100\n",
      "\u001b[1m193/196\u001b[0m \u001b[32m━━━━━━━━━━━━━━━━━━━\u001b[0m\u001b[37m━\u001b[0m \u001b[1m0s\u001b[0m 6ms/step - acc: 0.8433 - f1: 0.8431 - loss: 0.4407\n",
      "Epoch 18: val_loss did not improve from 0.77911\n",
      "\u001b[1m196/196\u001b[0m \u001b[32m━━━━━━━━━━━━━━━━━━━━\u001b[0m\u001b[37m\u001b[0m \u001b[1m1s\u001b[0m 7ms/step - acc: 0.8433 - f1: 0.8431 - loss: 0.4407 - val_acc: 0.7448 - val_f1: 0.7463 - val_loss: 0.7938\n",
      "Epoch 19/100\n",
      "\u001b[1m195/196\u001b[0m \u001b[32m━━━━━━━━━━━━━━━━━━━\u001b[0m\u001b[37m━\u001b[0m \u001b[1m0s\u001b[0m 7ms/step - acc: 0.8457 - f1: 0.8456 - loss: 0.4311\n",
      "Epoch 19: val_loss did not improve from 0.77911\n",
      "\u001b[1m196/196\u001b[0m \u001b[32m━━━━━━━━━━━━━━━━━━━━\u001b[0m\u001b[37m\u001b[0m \u001b[1m2s\u001b[0m 8ms/step - acc: 0.8458 - f1: 0.8456 - loss: 0.4310 - val_acc: 0.7387 - val_f1: 0.7372 - val_loss: 0.8260\n",
      "Epoch 20/100\n",
      "\u001b[1m192/196\u001b[0m \u001b[32m━━━━━━━━━━━━━━━━━━━\u001b[0m\u001b[37m━\u001b[0m \u001b[1m0s\u001b[0m 6ms/step - acc: 0.8502 - f1: 0.8500 - loss: 0.4215\n",
      "Epoch 20: val_loss did not improve from 0.77911\n",
      "\u001b[1m196/196\u001b[0m \u001b[32m━━━━━━━━━━━━━━━━━━━━\u001b[0m\u001b[37m\u001b[0m \u001b[1m1s\u001b[0m 7ms/step - acc: 0.8502 - f1: 0.8501 - loss: 0.4214 - val_acc: 0.7426 - val_f1: 0.7431 - val_loss: 0.8015\n",
      "Epoch 21/100\n",
      "\u001b[1m186/196\u001b[0m \u001b[32m━━━━━━━━━━━━━━━━━━\u001b[0m\u001b[37m━━\u001b[0m \u001b[1m0s\u001b[0m 5ms/step - acc: 0.8522 - f1: 0.8520 - loss: 0.4208\n",
      "Epoch 21: val_loss did not improve from 0.77911\n",
      "\u001b[1m196/196\u001b[0m \u001b[32m━━━━━━━━━━━━━━━━━━━━\u001b[0m\u001b[37m\u001b[0m \u001b[1m1s\u001b[0m 5ms/step - acc: 0.8523 - f1: 0.8521 - loss: 0.4205 - val_acc: 0.7386 - val_f1: 0.7348 - val_loss: 0.8503\n",
      "Epoch 22/100\n",
      "\u001b[1m188/196\u001b[0m \u001b[32m━━━━━━━━━━━━━━━━━━━\u001b[0m\u001b[37m━\u001b[0m \u001b[1m0s\u001b[0m 5ms/step - acc: 0.8518 - f1: 0.8517 - loss: 0.4181\n",
      "Epoch 22: val_loss did not improve from 0.77911\n",
      "\u001b[1m196/196\u001b[0m \u001b[32m━━━━━━━━━━━━━━━━━━━━\u001b[0m\u001b[37m\u001b[0m \u001b[1m1s\u001b[0m 5ms/step - acc: 0.8519 - f1: 0.8517 - loss: 0.4178 - val_acc: 0.7439 - val_f1: 0.7431 - val_loss: 0.8296\n",
      "Epoch 23/100\n",
      "\u001b[1m196/196\u001b[0m \u001b[32m━━━━━━━━━━━━━━━━━━━━\u001b[0m\u001b[37m\u001b[0m \u001b[1m0s\u001b[0m 5ms/step - acc: 0.8559 - f1: 0.8558 - loss: 0.4045\n",
      "Epoch 23: val_loss did not improve from 0.77911\n",
      "\u001b[1m196/196\u001b[0m \u001b[32m━━━━━━━━━━━━━━━━━━━━\u001b[0m\u001b[37m\u001b[0m \u001b[1m1s\u001b[0m 6ms/step - acc: 0.8559 - f1: 0.8558 - loss: 0.4045 - val_acc: 0.7396 - val_f1: 0.7402 - val_loss: 0.8543\n",
      "Epoch 24/100\n",
      "\u001b[1m191/196\u001b[0m \u001b[32m━━━━━━━━━━━━━━━━━━━\u001b[0m\u001b[37m━\u001b[0m \u001b[1m0s\u001b[0m 6ms/step - acc: 0.8581 - f1: 0.8581 - loss: 0.4009\n",
      "Epoch 24: val_loss did not improve from 0.77911\n",
      "\u001b[1m196/196\u001b[0m \u001b[32m━━━━━━━━━━━━━━━━━━━━\u001b[0m\u001b[37m\u001b[0m \u001b[1m1s\u001b[0m 7ms/step - acc: 0.8582 - f1: 0.8581 - loss: 0.4008 - val_acc: 0.7474 - val_f1: 0.7429 - val_loss: 0.8186\n",
      "Epoch 25/100\n",
      "\u001b[1m193/196\u001b[0m \u001b[32m━━━━━━━━━━━━━━━━━━━\u001b[0m\u001b[37m━\u001b[0m \u001b[1m0s\u001b[0m 7ms/step - acc: 0.8619 - f1: 0.8616 - loss: 0.3899\n",
      "Epoch 25: val_loss did not improve from 0.77911\n",
      "\u001b[1m196/196\u001b[0m \u001b[32m━━━━━━━━━━━━━━━━━━━━\u001b[0m\u001b[37m\u001b[0m \u001b[1m2s\u001b[0m 8ms/step - acc: 0.8620 - f1: 0.8616 - loss: 0.3898 - val_acc: 0.7488 - val_f1: 0.7493 - val_loss: 0.8228\n",
      "Epoch 26/100\n",
      "\u001b[1m195/196\u001b[0m \u001b[32m━━━━━━━━━━━━━━━━━━━\u001b[0m\u001b[37m━\u001b[0m \u001b[1m0s\u001b[0m 5ms/step - acc: 0.8619 - f1: 0.8618 - loss: 0.3851\n",
      "Epoch 26: val_loss did not improve from 0.77911\n",
      "\u001b[1m196/196\u001b[0m \u001b[32m━━━━━━━━━━━━━━━━━━━━\u001b[0m\u001b[37m\u001b[0m \u001b[1m1s\u001b[0m 7ms/step - acc: 0.8619 - f1: 0.8618 - loss: 0.3851 - val_acc: 0.7473 - val_f1: 0.7478 - val_loss: 0.8196\n",
      "Epoch 27/100\n",
      "\u001b[1m192/196\u001b[0m \u001b[32m━━━━━━━━━━━━━━━━━━━\u001b[0m\u001b[37m━\u001b[0m \u001b[1m0s\u001b[0m 6ms/step - acc: 0.8673 - f1: 0.8673 - loss: 0.3776\n",
      "Epoch 27: val_loss did not improve from 0.77911\n",
      "\u001b[1m196/196\u001b[0m \u001b[32m━━━━━━━━━━━━━━━━━━━━\u001b[0m\u001b[37m\u001b[0m \u001b[1m2s\u001b[0m 8ms/step - acc: 0.8674 - f1: 0.8673 - loss: 0.3775 - val_acc: 0.7457 - val_f1: 0.7464 - val_loss: 0.8600\n",
      "Epoch 28/100\n",
      "\u001b[1m195/196\u001b[0m \u001b[32m━━━━━━━━━━━━━━━━━━━\u001b[0m\u001b[37m━\u001b[0m \u001b[1m0s\u001b[0m 6ms/step - acc: 0.8694 - f1: 0.8693 - loss: 0.3665\n",
      "Epoch 28: val_loss did not improve from 0.77911\n",
      "\u001b[1m196/196\u001b[0m \u001b[32m━━━━━━━━━━━━━━━━━━━━\u001b[0m\u001b[37m\u001b[0m \u001b[1m1s\u001b[0m 7ms/step - acc: 0.8694 - f1: 0.8693 - loss: 0.3665 - val_acc: 0.7453 - val_f1: 0.7439 - val_loss: 0.8847\n",
      "Epoch 29/100\n",
      "\u001b[1m194/196\u001b[0m \u001b[32m━━━━━━━━━━━━━━━━━━━\u001b[0m\u001b[37m━\u001b[0m \u001b[1m0s\u001b[0m 6ms/step - acc: 0.8698 - f1: 0.8697 - loss: 0.3677\n",
      "Epoch 29: val_loss did not improve from 0.77911\n",
      "\u001b[1m196/196\u001b[0m \u001b[32m━━━━━━━━━━━━━━━━━━━━\u001b[0m\u001b[37m\u001b[0m \u001b[1m1s\u001b[0m 7ms/step - acc: 0.8698 - f1: 0.8697 - loss: 0.3676 - val_acc: 0.7476 - val_f1: 0.7466 - val_loss: 0.8534\n",
      "Epoch 30/100\n",
      "\u001b[1m192/196\u001b[0m \u001b[32m━━━━━━━━━━━━━━━━━━━\u001b[0m\u001b[37m━\u001b[0m \u001b[1m0s\u001b[0m 6ms/step - acc: 0.8709 - f1: 0.8708 - loss: 0.3631\n",
      "Epoch 30: val_loss did not improve from 0.77911\n",
      "\u001b[1m196/196\u001b[0m \u001b[32m━━━━━━━━━━━━━━━━━━━━\u001b[0m\u001b[37m\u001b[0m \u001b[1m2s\u001b[0m 8ms/step - acc: 0.8709 - f1: 0.8708 - loss: 0.3630 - val_acc: 0.7357 - val_f1: 0.7313 - val_loss: 0.9363\n",
      "Epoch 31/100\n",
      "\u001b[1m194/196\u001b[0m \u001b[32m━━━━━━━━━━━━━━━━━━━\u001b[0m\u001b[37m━\u001b[0m \u001b[1m0s\u001b[0m 5ms/step - acc: 0.8731 - f1: 0.8731 - loss: 0.3550\n",
      "Epoch 31: val_loss did not improve from 0.77911\n",
      "\u001b[1m196/196\u001b[0m \u001b[32m━━━━━━━━━━━━━━━━━━━━\u001b[0m\u001b[37m\u001b[0m \u001b[1m1s\u001b[0m 7ms/step - acc: 0.8732 - f1: 0.8731 - loss: 0.3550 - val_acc: 0.7468 - val_f1: 0.7457 - val_loss: 0.8716\n",
      "Epoch 32/100\n",
      "\u001b[1m195/196\u001b[0m \u001b[32m━━━━━━━━━━━━━━━━━━━\u001b[0m\u001b[37m━\u001b[0m \u001b[1m0s\u001b[0m 5ms/step - acc: 0.8779 - f1: 0.8778 - loss: 0.3467\n",
      "Epoch 32: val_loss did not improve from 0.77911\n",
      "\u001b[1m196/196\u001b[0m \u001b[32m━━━━━━━━━━━━━━━━━━━━\u001b[0m\u001b[37m\u001b[0m \u001b[1m1s\u001b[0m 6ms/step - acc: 0.8779 - f1: 0.8778 - loss: 0.3466 - val_acc: 0.7468 - val_f1: 0.7477 - val_loss: 0.8625\n",
      "Epoch 32: early stopping\n",
      "Restoring model weights from the end of the best epoch: 7.\n"
     ]
    }
   ],
   "source": [
    "history = model.fit(\n",
    "    train_ds,\n",
    "    validation_data=val_ds,\n",
    "    epochs=EPOCHS,\n",
    "    callbacks=callbacks,\n",
    "    verbose=VERBOSE,\n",
    ")"
   ]
  },
  {
   "cell_type": "code",
   "execution_count": null,
   "metadata": {},
   "outputs": [],
   "source": []
  }
 ],
 "metadata": {
  "kernelspec": {
   "display_name": ".venv",
   "language": "python",
   "name": "python3"
  },
  "language_info": {
   "codemirror_mode": {
    "name": "ipython",
    "version": 3
   },
   "file_extension": ".py",
   "mimetype": "text/x-python",
   "name": "python",
   "nbconvert_exporter": "python",
   "pygments_lexer": "ipython3",
   "version": "3.12.5"
  }
 },
 "nbformat": 4,
 "nbformat_minor": 2
}
